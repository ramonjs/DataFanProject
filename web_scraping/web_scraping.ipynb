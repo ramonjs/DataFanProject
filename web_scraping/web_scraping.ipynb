{
 "cells": [
  {
   "cell_type": "markdown",
   "metadata": {},
   "source": [
    "## Web Scraping - Jurisprudências\n",
    "##### Autor: Ramon Jeronimo de Souza\n",
    "<h4> </h4>"
   ]
  },
  {
   "cell_type": "markdown",
   "metadata": {},
   "source": [
    "##### 1- Bibliotecas Utilizadas no Estudo"
   ]
  },
  {
   "cell_type": "code",
   "execution_count": null,
   "metadata": {},
   "outputs": [],
   "source": [
    "import pandas as pd\n",
    "from selenium import webdriver\n",
    "import time"
   ]
  },
  {
   "cell_type": "markdown",
   "metadata": {},
   "source": [
    "##### 2- Código"
   ]
  },
  {
   "cell_type": "code",
   "execution_count": null,
   "metadata": {},
   "outputs": [],
   "source": [
    "login_url = 'https://acesso.oab.org.br/login?returnUrl=%2Fconnect%2Fauthorize%2Fcallback%3Fclient_id%3DJuris%26response_type%3Did_token%2520token%26scope%3Dopenid%2520profile%26redirect_uri%3Dhttps%253A%252F%252Fjuris.legalabs.com.br%252Fauth%252Fredirect%26response_mode%3Dform_post%26acr_values%3Dtenant%253AJuris%26state%3D6a6s55d4a5a45s7d5656asd%26nonce%3D8ds8f88as6ads87das'\n",
    "path_driver = 'C:/Users/ramon/OneDrive/Documentos/Projetos/Petros/Jurimetria/Python/Jupyter/webdrivers/chromedriver.exe'\n",
    "\n",
    "oab = 'digite a OAB'\n",
    "cpf = 'digite o CPF'\n",
    "data_nasc = 'digite a data de nascimento'\n",
    "cod_seg = 'digite o código de segurança'\n",
    "\n",
    "ini = time.time()\n",
    "\n",
    "search = input('Escreva sua pesquisa: ')\n",
    "\n",
    "browser = webdriver.Chrome(path_driver)\n",
    "browser.get(login_url)\n",
    "\n",
    "time.sleep(2)\n",
    "\n",
    "browser.find_element_by_id('txt-oab').send_keys(oab)\n",
    "browser.find_element_by_id('txt-cpf').send_keys(cpf)\n",
    "browser.find_element_by_id('txt-nascimento').send_keys(data_nasc)\n",
    "browser.find_element_by_id('txt-seguranca').send_keys(cod_seg)\n",
    "time.sleep(1)\n",
    "browser.find_element_by_id('bt-entrar').click()\n",
    "\n",
    "time.sleep(7)\n",
    "\n",
    "browser.find_element_by_xpath('//*[@id=\"q-app\"]/div/div[2]/main/div[2]/div/div[1]/div[2]/div/input').send_keys(search)\n",
    "time.sleep(2)\n",
    "browser.find_element_by_xpath('//*[@id=\"q-app\"]/div/div[2]/main/div[2]/div/div[2]/div[1]/div[12]/span').click()\n",
    "time.sleep(1)\n",
    "browser.find_element_by_xpath('//*[@id=\"q-app\"]/div/div[2]/main/div[2]/div/button').click()\n",
    "\n",
    "time.sleep(5)\n",
    "\n",
    "actual_url = browser.current_url\n",
    "new_url = ''\n",
    "data = []\n",
    "tribunal = []\n",
    "turma = []\n",
    "relator = []\n",
    "processo = []\n",
    "texto = []\n",
    "\n",
    "try:\n",
    "    for x in range(0, 100):\n",
    "        if actual_url == new_url:\n",
    "            print('Pesquisa finalizada.')\n",
    "            break\n",
    "        else:\n",
    "            try:\n",
    "                scrap = BeautifulSoup(browser.page_source, 'html.parser')\n",
    "\n",
    "                tribunal = tribunal + [trib.get_text() for trib in scrap.find_all(class_='court')]\n",
    "                processo = processo + [proc.get_text() for proc in scrap.find_all(class_='number')]\n",
    "                texto = texto + [text.get_text() for text in scrap.find_all(class_='absolute full-width')]\n",
    "                for i in range(0, 10):\n",
    "                    data.append(scrap.find_all(class_='details__first-line row items-center')[i].find_all('p')[0].get_text())\n",
    "                    turma.append(scrap.find_all(class_='details__first-line row items-center')[i].find_all('p')[1].get_text())\n",
    "                    relator.append(scrap.find_all(class_='details__first-line row items-center')[i].find_all('p')[2].get_text())\n",
    "\n",
    "                actual_url = browser.current_url\n",
    "                time.sleep(3)\n",
    "            except:\n",
    "                print('Não encontramos resultados para sua pesquisa.')\n",
    "            try:\n",
    "                browser.find_element_by_xpath('//i[text()=\"keyboard_arrow_right\"]').click()\n",
    "                time.sleep(3)\n",
    "                new_url = browser.current_url\n",
    "            except:\n",
    "                print('Pesquisa finalizada.')\n",
    "                break\n",
    "except:\n",
    "    print('Não foi possível realizar a pesquisa de forma completa.')\n",
    "    \n",
    "browser.quit()\n",
    "\n",
    "df = pd.DataFrame({'Data': data, \n",
    "        'Turma': turma, \n",
    "        'Relator': relator,\n",
    "        'Tribunal': tribunal, \n",
    "        'Processo': processo, \n",
    "        'Resumo': texto})\n",
    "\n",
    "fim = time.time()\n",
    "print('Tempo de Execução:')\n",
    "print(fim - ini)\n",
    "df"
   ]
  }
 ],
 "metadata": {
  "kernelspec": {
   "display_name": "Python 3",
   "language": "python",
   "name": "python3"
  },
  "language_info": {
   "codemirror_mode": {
    "name": "ipython",
    "version": 3
   },
   "file_extension": ".py",
   "mimetype": "text/x-python",
   "name": "python",
   "nbconvert_exporter": "python",
   "pygments_lexer": "ipython3",
   "version": "3.7.3"
  }
 },
 "nbformat": 4,
 "nbformat_minor": 2
}
